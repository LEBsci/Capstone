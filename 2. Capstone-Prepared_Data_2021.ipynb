{
 "cells": [
  {
   "cell_type": "markdown",
   "metadata": {},
   "source": [
    "DATA PIPELINE 2021 - CAPSTONE PROJECT"
   ]
  },
  {
   "cell_type": "markdown",
   "metadata": {},
   "source": [
    "1. Load Data for 2021  final_df2021"
   ]
  },
  {
   "cell_type": "markdown",
   "metadata": {},
   "source": [
    "2021 "
   ]
  },
  {
   "cell_type": "code",
   "execution_count": 1,
   "metadata": {},
   "outputs": [
    {
     "name": "stdout",
     "output_type": "stream",
     "text": [
      "Loading CSV files...\n"
     ]
    },
    {
     "name": "stderr",
     "output_type": "stream",
     "text": [
      "Processing 2021_05_Maig_BicingNou_ESTACIONS.csv: 91chunk [00:01, 57.03chunk/s]\n",
      "Processing 2021_04_Abril_BicingNou_ESTACIONS.csv: 88chunk [00:01, 63.44chunk/s]\n",
      "Processing 2021_09_Setembre_BicingNou_ESTACIONS.csv: 88chunk [00:01, 75.40chunk/s]\n",
      "Processing 2021_03_Març_BicingNou_ESTACIONS.csv: 91chunk [00:01, 76.03chunk/s]\n",
      "Processing 2021_12_Desembre_BicingNou_ESTACIONS.csv: 88chunk [00:01, 71.53chunk/s]\n",
      "Processing 2021_02_Febrer_BicingNou_ESTACIONS.csv: 81chunk [00:01, 78.55chunk/s]\n",
      "Processing 2021_01_Gener_BicingNou_ESTACIONS.csv: 91chunk [00:01, 75.12chunk/s]\n",
      "Processing 2021_06_Juny_BicingNou_ESTACIONS.csv: 87chunk [00:01, 74.87chunk/s]\n",
      "Processing 2021_07_Juliol_BicingNou_ESTACIONS.csv: 89chunk [00:01, 73.07chunk/s]\n",
      "Processing 2021_08_Agost_BicingNou_ESTACIONS.csv: 91chunk [00:01, 74.37chunk/s]\n",
      "Processing 2021_10_Octubre_BicingNou_ESTACIONS.csv: 91chunk [00:01, 76.84chunk/s]\n",
      "Processing 2021_11_Novembre_BicingNou_ESTACIONS.csv: 87chunk [00:01, 70.79chunk/s]\n",
      "Files Processed: 100%|██████████| 12/12 [00:15<00:00,  1.30s/file]\n"
     ]
    },
    {
     "name": "stdout",
     "output_type": "stream",
     "text": [
      "   station_id  num_bikes_available  num_bikes_available_types.mechanical  \\\n",
      "0           1                   27                                    27   \n",
      "1           2                   26                                    25   \n",
      "2           3                   26                                    26   \n",
      "3           4                    7                                     4   \n",
      "4           5                    4                                     4   \n",
      "\n",
      "   num_bikes_available_types.ebike  num_docks_available  last_reported  \\\n",
      "0                                0                   19   1.619820e+09   \n",
      "1                                1                    0   1.619820e+09   \n",
      "2                                0                    0   1.619820e+09   \n",
      "3                                3                   13   1.619820e+09   \n",
      "4                                0                   35   1.619820e+09   \n",
      "\n",
      "   is_charging_station      status  is_installed  is_renting  is_returning  \\\n",
      "0                 True  IN_SERVICE             1           1             1   \n",
      "1                 True  IN_SERVICE             1           1             1   \n",
      "2                 True  IN_SERVICE             1           1             1   \n",
      "3                 True  IN_SERVICE             1           1             1   \n",
      "4                 True  IN_SERVICE             1           1             1   \n",
      "\n",
      "   last_updated  ttl  traffic  \n",
      "0    1619819984    6      NaN  \n",
      "1    1619819984    6      NaN  \n",
      "2    1619819984    6      NaN  \n",
      "3    1619819984    6      NaN  \n",
      "4    1619819984    6      NaN  \n",
      "Shape of the DataFrame: (52849042, 14)\n"
     ]
    }
   ],
   "source": [
    "import os\n",
    "import pandas as pd\n",
    "from tqdm import tqdm  # Progress bar\n",
    "\n",
    "\n",
    "# Define the correct folder path\n",
    "folder_path = \"/home/fm/Desktop/Data2021\"\n",
    "\n",
    "# Get all CSV files in the folder\n",
    "csv_files = [os.path.join(folder_path, f) for f in os.listdir(folder_path) if f.endswith('.csv')]\n",
    "\n",
    "# Create an empty list to store DataFrames\n",
    "dfs = []\n",
    "\n",
    "# Progress bar for loading files\n",
    "print(\"Loading CSV files...\")\n",
    "for file in tqdm(csv_files, desc=\"Files Processed\", unit=\"file\"):\n",
    "    chunk_list = []\n",
    "    \n",
    "    # Use tqdm to show chunk loading progress\n",
    "    for chunk in tqdm(pd.read_csv(file, chunksize=50000), desc=f\"Processing {os.path.basename(file)}\", unit=\"chunk\"):\n",
    "        chunk_list.append(chunk)\n",
    "    \n",
    "    # Concatenate chunks for the current file\n",
    "    df = pd.concat(chunk_list, ignore_index=True)\n",
    "    dfs.append(df)\n",
    "\n",
    "\n",
    "# Concatenate all files into a single DataFrame\n",
    "final_df2021 = pd.concat(dfs, ignore_index=True)\n",
    "\n",
    "# Clear list for next year's dataframes   \n",
    "dfs.clear()\n",
    "\n",
    "# Display the first few rows\n",
    "print(final_df2021.head())\n",
    "\n",
    "# Show DataFrame shape\n",
    "print(\"Shape of the DataFrame:\", final_df2021.shape)\n"
   ]
  },
  {
   "cell_type": "markdown",
   "metadata": {},
   "source": [
    "2. Checking all labels to see if we have missing values "
   ]
  },
  {
   "cell_type": "markdown",
   "metadata": {},
   "source": [
    "2021"
   ]
  },
  {
   "cell_type": "code",
   "execution_count": 2,
   "metadata": {},
   "outputs": [
    {
     "name": "stdout",
     "output_type": "stream",
     "text": [
      "Missing values per column:\n",
      "\n",
      "traffic    52014085\n",
      "dtype: int64\n",
      "Percentage of missing values per column:\n",
      " traffic    98.420109\n",
      "dtype: float64\n",
      "   station_id  num_bikes_available  num_bikes_available_types.mechanical  \\\n",
      "0           1                   27                                    27   \n",
      "1           2                   26                                    25   \n",
      "2           3                   26                                    26   \n",
      "3           4                    7                                     4   \n",
      "4           5                    4                                     4   \n",
      "\n",
      "   num_bikes_available_types.ebike  num_docks_available  last_reported  \\\n",
      "0                                0                   19   1.619820e+09   \n",
      "1                                1                    0   1.619820e+09   \n",
      "2                                0                    0   1.619820e+09   \n",
      "3                                3                   13   1.619820e+09   \n",
      "4                                0                   35   1.619820e+09   \n",
      "\n",
      "   is_charging_station      status  is_installed  is_renting  is_returning  \\\n",
      "0                 True  IN_SERVICE             1           1             1   \n",
      "1                 True  IN_SERVICE             1           1             1   \n",
      "2                 True  IN_SERVICE             1           1             1   \n",
      "3                 True  IN_SERVICE             1           1             1   \n",
      "4                 True  IN_SERVICE             1           1             1   \n",
      "\n",
      "   last_updated  ttl  traffic  \n",
      "0    1619819984    6      NaN  \n",
      "1    1619819984    6      NaN  \n",
      "2    1619819984    6      NaN  \n",
      "3    1619819984    6      NaN  \n",
      "4    1619819984    6      NaN  \n"
     ]
    }
   ],
   "source": [
    "# Check for missing values\n",
    "missing_values = final_df2021.isnull().sum()\n",
    "\n",
    "# Show columns with missing values only\n",
    "missing_values = missing_values[missing_values > 0]\n",
    "\n",
    "# Display missing values\n",
    "if missing_values.empty:\n",
    "    print(\"No missing values found in the dataset.\")\n",
    "else:\n",
    "    print(\"Missing values per column:\\n\")\n",
    "    print(missing_values)\n",
    "\n",
    "missing_percentage = (final_df2021.isnull().sum() / len(final_df2021)) * 100\n",
    "missing_percentage = missing_percentage[missing_percentage > 0]\n",
    "print(\"Percentage of missing values per column:\\n\", missing_percentage)\n",
    "\n",
    "# Clear missing values list for the next year\n",
    "\n",
    "missing_values = []\n",
    "\n",
    "# Print structure of the DataFrame\n",
    "print(final_df2021.head())"
   ]
  },
  {
   "cell_type": "markdown",
   "metadata": {},
   "source": [
    "3. Removing columbns traffic, V1 and last_updated and also the missing values from the other labels for year 2021"
   ]
  },
  {
   "cell_type": "markdown",
   "metadata": {},
   "source": [
    "2021"
   ]
  },
  {
   "cell_type": "code",
   "execution_count": 3,
   "metadata": {},
   "outputs": [
    {
     "name": "stdout",
     "output_type": "stream",
     "text": [
      "Shape of DataFrame 2021 after cleaning: (52849042, 12)\n",
      "Remaining missing values 2021:\n",
      " station_id                              0\n",
      "num_bikes_available                     0\n",
      "num_bikes_available_types.mechanical    0\n",
      "num_bikes_available_types.ebike         0\n",
      "num_docks_available                     0\n",
      "last_reported                           0\n",
      "is_charging_station                     0\n",
      "status                                  0\n",
      "is_installed                            0\n",
      "is_renting                              0\n",
      "is_returning                            0\n",
      "ttl                                     0\n",
      "dtype: int64\n"
     ]
    }
   ],
   "source": [
    "# Define columns to drop completely\n",
    "\n",
    "\n",
    "columns_to_drop = []\n",
    "columns_to_drop = [\"last_updated\",\"traffic\",] # There is no \"V1\",in 2021 and 2022 data\n",
    "final_df_cleaned2021 = final_df2021.drop(columns=columns_to_drop)\n",
    "\n",
    "\n",
    "# Drop rows with any remaining missing values\n",
    "\n",
    "final_df_cleaned2021 = final_df_cleaned2021.dropna()\n",
    "\n",
    "\n",
    "# Display the shape after cleaning\n",
    "\n",
    "print(\"Shape of DataFrame 2021 after cleaning:\", final_df_cleaned2021.shape)\n",
    "\n",
    "\n",
    "# Check if any missing values remain\n",
    "\n",
    "print(\"Remaining missing values 2021:\\n\", final_df_cleaned2021.isnull().sum())\n",
    "\n",
    "\n",
    "# Display the first few rows\n",
    "#print(final_df_cleaned.head())\n"
   ]
  },
  {
   "cell_type": "markdown",
   "metadata": {},
   "source": [
    "4. Checking if the numbers are integers or not "
   ]
  },
  {
   "cell_type": "markdown",
   "metadata": {},
   "source": [
    "2021"
   ]
  },
  {
   "cell_type": "code",
   "execution_count": 4,
   "metadata": {},
   "outputs": [
    {
     "name": "stdout",
     "output_type": "stream",
     "text": [
      "✅ All numeric values are integers for 2021.\n"
     ]
    }
   ],
   "source": [
    "\n",
    "import numpy as np\n",
    "import pandas as pd\n",
    "\n",
    "# List of numeric columns to check\n",
    "numeric_columns = [\n",
    "    \"station_id\",\n",
    "    \"num_bikes_available\",\n",
    "    \"num_bikes_available_types.mechanical\",\n",
    "    \"num_bikes_available_types.ebike\",\n",
    "    \"num_docks_available\",\n",
    "    \"is_installed\",\n",
    "    \"is_renting\",\n",
    "    \"is_returning\",\n",
    "    \"ttl\"\n",
    "]\n",
    "\n",
    "# Vectorized integer check using NumPy for speed\n",
    "integer_check = []\n",
    "integer_check = final_df_cleaned2021[numeric_columns].apply(lambda col: np.isclose(col, np.round(col)))\n",
    "\n",
    "# Count non-integer values per column\n",
    "non_integer_counts = (integer_check == False).sum()\n",
    "\n",
    "# Print results\n",
    "if non_integer_counts.sum() == 0:\n",
    "    print(\"✅ All numeric values are integers for 2021.\")\n",
    "else:\n",
    "    print(\"⚠️ Some numeric values are NOT integers:\")\n",
    "    print(non_integer_counts[non_integer_counts > 0])"
   ]
  },
  {
   "cell_type": "markdown",
   "metadata": {},
   "source": [
    "4.1 Removing negative values"
   ]
  },
  {
   "cell_type": "markdown",
   "metadata": {},
   "source": [
    "2021"
   ]
  },
  {
   "cell_type": "code",
   "execution_count": 5,
   "metadata": {},
   "outputs": [
    {
     "name": "stdout",
     "output_type": "stream",
     "text": [
      "✅ No negative values detected. No replacement needed.\n"
     ]
    }
   ],
   "source": [
    "# Detect negative values and count them per column\n",
    "negative_counts = (final_df_cleaned2021[numeric_columns] < 0).sum()\n",
    "columns_with_negatives = negative_counts[negative_counts > 0]\n",
    "\n",
    "# Display columns with negative values before replacing\n",
    "if not columns_with_negatives.empty:\n",
    "    print(\"⚠️ Columns with negative values detected (before replacement):\")\n",
    "    print(columns_with_negatives)\n",
    "    \n",
    "    # Replace negative values with 0\n",
    "    final_df_cleaned2021[numeric_columns] = final_df_cleaned2021[numeric_columns].clip(lower=0)\n",
    "    print(\"\\n✅ Negative values have been replaced with 0.\")\n",
    "else:\n",
    "    print(\"✅ No negative values detected. No replacement needed.\")\n",
    "\n",
    "\n",
    "\n"
   ]
  },
  {
   "cell_type": "markdown",
   "metadata": {},
   "source": [
    "5. Converting the date "
   ]
  },
  {
   "cell_type": "markdown",
   "metadata": {},
   "source": [
    "2021"
   ]
  },
  {
   "cell_type": "code",
   "execution_count": 6,
   "metadata": {},
   "outputs": [
    {
     "name": "stdout",
     "output_type": "stream",
     "text": [
      "   station_id       last_reported        date  hour   weekday  weekday_num  \\\n",
      "0           1 2020-12-31 22:56:46  2020-12-31    22  Thursday            4   \n",
      "1           1 2020-12-31 23:01:13  2020-12-31    23  Thursday            4   \n",
      "2           1 2021-01-01 00:03:27  2021-01-01     0    Friday            5   \n",
      "3           1 2021-01-01 01:00:59  2021-01-01     1    Friday            5   \n",
      "4           1 2021-01-01 02:02:42  2021-01-01     2    Friday            5   \n",
      "\n",
      "      month  month_num  \n",
      "0  December         12  \n",
      "1  December         12  \n",
      "2   January          1  \n",
      "3   January          1  \n",
      "4   January          1  \n"
     ]
    },
    {
     "data": {
      "application/vnd.microsoft.datawrangler.viewer.v0+json": {
       "columns": [
        {
         "name": "index",
         "rawType": "int64",
         "type": "integer"
        },
        {
         "name": "station_id",
         "rawType": "int64",
         "type": "integer"
        },
        {
         "name": "num_bikes_available",
         "rawType": "int64",
         "type": "integer"
        },
        {
         "name": "num_bikes_available_types.mechanical",
         "rawType": "int64",
         "type": "integer"
        },
        {
         "name": "num_bikes_available_types.ebike",
         "rawType": "int64",
         "type": "integer"
        },
        {
         "name": "num_docks_available",
         "rawType": "int64",
         "type": "integer"
        },
        {
         "name": "last_reported",
         "rawType": "datetime64[ns]",
         "type": "datetime"
        },
        {
         "name": "is_charging_station",
         "rawType": "bool",
         "type": "boolean"
        },
        {
         "name": "status",
         "rawType": "object",
         "type": "string"
        },
        {
         "name": "is_installed",
         "rawType": "int64",
         "type": "integer"
        },
        {
         "name": "is_renting",
         "rawType": "int64",
         "type": "integer"
        },
        {
         "name": "is_returning",
         "rawType": "int64",
         "type": "integer"
        },
        {
         "name": "ttl",
         "rawType": "int64",
         "type": "integer"
        },
        {
         "name": "date",
         "rawType": "object",
         "type": "unknown"
        },
        {
         "name": "hour",
         "rawType": "int32",
         "type": "integer"
        },
        {
         "name": "weekday",
         "rawType": "object",
         "type": "string"
        },
        {
         "name": "weekday_num",
         "rawType": "int32",
         "type": "integer"
        },
        {
         "name": "month",
         "rawType": "object",
         "type": "string"
        },
        {
         "name": "month_num",
         "rawType": "int32",
         "type": "integer"
        }
       ],
       "conversionMethod": "pd.DataFrame",
       "ref": "9eae7b56-9e12-4208-af88-6d10cecb542b",
       "rows": [
        [
         "0",
         "1",
         "43",
         "43",
         "0",
         "3",
         "2020-12-31 22:56:46",
         "True",
         "IN_SERVICE",
         "1",
         "1",
         "1",
         "22",
         "2020-12-31",
         "22",
         "Thursday",
         "4",
         "December",
         "12"
        ]
       ],
       "shape": {
        "columns": 18,
        "rows": 1
       }
      },
      "text/html": [
       "<div>\n",
       "<style scoped>\n",
       "    .dataframe tbody tr th:only-of-type {\n",
       "        vertical-align: middle;\n",
       "    }\n",
       "\n",
       "    .dataframe tbody tr th {\n",
       "        vertical-align: top;\n",
       "    }\n",
       "\n",
       "    .dataframe thead th {\n",
       "        text-align: right;\n",
       "    }\n",
       "</style>\n",
       "<table border=\"1\" class=\"dataframe\">\n",
       "  <thead>\n",
       "    <tr style=\"text-align: right;\">\n",
       "      <th></th>\n",
       "      <th>station_id</th>\n",
       "      <th>num_bikes_available</th>\n",
       "      <th>num_bikes_available_types.mechanical</th>\n",
       "      <th>num_bikes_available_types.ebike</th>\n",
       "      <th>num_docks_available</th>\n",
       "      <th>last_reported</th>\n",
       "      <th>is_charging_station</th>\n",
       "      <th>status</th>\n",
       "      <th>is_installed</th>\n",
       "      <th>is_renting</th>\n",
       "      <th>is_returning</th>\n",
       "      <th>ttl</th>\n",
       "      <th>date</th>\n",
       "      <th>hour</th>\n",
       "      <th>weekday</th>\n",
       "      <th>weekday_num</th>\n",
       "      <th>month</th>\n",
       "      <th>month_num</th>\n",
       "    </tr>\n",
       "  </thead>\n",
       "  <tbody>\n",
       "    <tr>\n",
       "      <th>0</th>\n",
       "      <td>1</td>\n",
       "      <td>43</td>\n",
       "      <td>43</td>\n",
       "      <td>0</td>\n",
       "      <td>3</td>\n",
       "      <td>2020-12-31 22:56:46</td>\n",
       "      <td>True</td>\n",
       "      <td>IN_SERVICE</td>\n",
       "      <td>1</td>\n",
       "      <td>1</td>\n",
       "      <td>1</td>\n",
       "      <td>22</td>\n",
       "      <td>2020-12-31</td>\n",
       "      <td>22</td>\n",
       "      <td>Thursday</td>\n",
       "      <td>4</td>\n",
       "      <td>December</td>\n",
       "      <td>12</td>\n",
       "    </tr>\n",
       "  </tbody>\n",
       "</table>\n",
       "</div>"
      ],
      "text/plain": [
       "   station_id  num_bikes_available  num_bikes_available_types.mechanical  \\\n",
       "0           1                   43                                    43   \n",
       "\n",
       "   num_bikes_available_types.ebike  num_docks_available       last_reported  \\\n",
       "0                                0                    3 2020-12-31 22:56:46   \n",
       "\n",
       "   is_charging_station      status  is_installed  is_renting  is_returning  \\\n",
       "0                 True  IN_SERVICE             1           1             1   \n",
       "\n",
       "   ttl        date  hour   weekday  weekday_num     month  month_num  \n",
       "0   22  2020-12-31    22  Thursday            4  December         12  "
      ]
     },
     "metadata": {},
     "output_type": "display_data"
    }
   ],
   "source": [
    "\n",
    "\n",
    "# Convert 'last_reported' from Unix timestamp to datetime\n",
    "final_df_cleaned2021[\"last_reported\"] = pd.to_datetime(final_df_cleaned2021[\"last_reported\"], unit='s')\n",
    "\n",
    "# Sort DataFrame in ascending order to keep the earliest record per hour per station\n",
    "final_df_cleaned2021.sort_values(by=[\"station_id\", \"last_reported\"], ascending=True, inplace=True)\n",
    "\n",
    "# Extract date and hour for grouping\n",
    "final_df_cleaned2021[\"date\"] = final_df_cleaned2021[\"last_reported\"].dt.date\n",
    "final_df_cleaned2021[\"hour\"] = final_df_cleaned2021[\"last_reported\"].dt.hour\n",
    "\n",
    "# Keep only the earliest record per hour per day per station\n",
    "final_df_hourly2021 = final_df_cleaned2021.drop_duplicates(subset=[\"station_id\", \"date\", \"hour\"], keep=\"first\").copy()\n",
    "\n",
    "# Add additional columns\n",
    "final_df_hourly2021[\"weekday\"] = final_df_hourly2021[\"last_reported\"].dt.day_name()\n",
    "final_df_hourly2021[\"weekday_num\"] = final_df_hourly2021[\"last_reported\"].dt.weekday + 1\n",
    "final_df_hourly2021[\"month\"] = final_df_hourly2021[\"last_reported\"].dt.month_name()\n",
    "final_df_hourly2021[\"month_num\"] = final_df_hourly2021[\"last_reported\"].dt.month\n",
    "\n",
    "# Reset the index\n",
    "final_df_hourly2021.reset_index(drop=True, inplace=True)\n",
    "\n",
    "# Display preview\n",
    "print(final_df_hourly2021[[\"station_id\", \"last_reported\", \"date\", \"hour\", \"weekday\", \"weekday_num\", \"month\", \"month_num\"]].head())\n",
    "\n",
    "\n",
    "display(final_df_hourly2021.head(1))\n",
    "\n"
   ]
  },
  {
   "cell_type": "markdown",
   "metadata": {},
   "source": [
    "6. Adding capacity from the Excel file "
   ]
  },
  {
   "cell_type": "markdown",
   "metadata": {},
   "source": [
    "2021"
   ]
  },
  {
   "cell_type": "code",
   "execution_count": 7,
   "metadata": {},
   "outputs": [
    {
     "name": "stdout",
     "output_type": "stream",
     "text": [
      "Data types after merging:\n",
      " station_id                                       int64\n",
      "num_bikes_available                              int64\n",
      "num_bikes_available_types.mechanical             int64\n",
      "num_bikes_available_types.ebike                  int64\n",
      "num_docks_available                              int64\n",
      "last_reported                           datetime64[ns]\n",
      "is_charging_station                               bool\n",
      "status                                          object\n",
      "is_installed                                     int64\n",
      "is_renting                                       int64\n",
      "is_returning                                     int64\n",
      "ttl                                              int64\n",
      "date                                            object\n",
      "hour                                             int32\n",
      "weekday                                         object\n",
      "weekday_num                                      int32\n",
      "month                                           object\n",
      "month_num                                        int32\n",
      "capacity                                         int64\n",
      "dtype: object\n"
     ]
    },
    {
     "data": {
      "application/vnd.microsoft.datawrangler.viewer.v0+json": {
       "columns": [
        {
         "name": "index",
         "rawType": "int64",
         "type": "integer"
        },
        {
         "name": "station_id",
         "rawType": "int64",
         "type": "integer"
        },
        {
         "name": "num_bikes_available",
         "rawType": "int64",
         "type": "integer"
        },
        {
         "name": "num_bikes_available_types.mechanical",
         "rawType": "int64",
         "type": "integer"
        },
        {
         "name": "num_bikes_available_types.ebike",
         "rawType": "int64",
         "type": "integer"
        },
        {
         "name": "num_docks_available",
         "rawType": "int64",
         "type": "integer"
        },
        {
         "name": "last_reported",
         "rawType": "datetime64[ns]",
         "type": "datetime"
        },
        {
         "name": "is_charging_station",
         "rawType": "bool",
         "type": "boolean"
        },
        {
         "name": "status",
         "rawType": "object",
         "type": "string"
        },
        {
         "name": "is_installed",
         "rawType": "int64",
         "type": "integer"
        },
        {
         "name": "is_renting",
         "rawType": "int64",
         "type": "integer"
        },
        {
         "name": "is_returning",
         "rawType": "int64",
         "type": "integer"
        },
        {
         "name": "ttl",
         "rawType": "int64",
         "type": "integer"
        },
        {
         "name": "date",
         "rawType": "object",
         "type": "unknown"
        },
        {
         "name": "hour",
         "rawType": "int32",
         "type": "integer"
        },
        {
         "name": "weekday",
         "rawType": "object",
         "type": "string"
        },
        {
         "name": "weekday_num",
         "rawType": "int32",
         "type": "integer"
        },
        {
         "name": "month",
         "rawType": "object",
         "type": "string"
        },
        {
         "name": "month_num",
         "rawType": "int32",
         "type": "integer"
        },
        {
         "name": "capacity",
         "rawType": "int64",
         "type": "integer"
        }
       ],
       "conversionMethod": "pd.DataFrame",
       "ref": "e2a1ee9c-97c1-4423-9cc1-583935d5ea60",
       "rows": [
        [
         "0",
         "1",
         "43",
         "43",
         "0",
         "3",
         "2020-12-31 22:56:46",
         "True",
         "IN_SERVICE",
         "1",
         "1",
         "1",
         "22",
         "2020-12-31",
         "22",
         "Thursday",
         "4",
         "December",
         "12",
         "46"
        ]
       ],
       "shape": {
        "columns": 19,
        "rows": 1
       }
      },
      "text/html": [
       "<div>\n",
       "<style scoped>\n",
       "    .dataframe tbody tr th:only-of-type {\n",
       "        vertical-align: middle;\n",
       "    }\n",
       "\n",
       "    .dataframe tbody tr th {\n",
       "        vertical-align: top;\n",
       "    }\n",
       "\n",
       "    .dataframe thead th {\n",
       "        text-align: right;\n",
       "    }\n",
       "</style>\n",
       "<table border=\"1\" class=\"dataframe\">\n",
       "  <thead>\n",
       "    <tr style=\"text-align: right;\">\n",
       "      <th></th>\n",
       "      <th>station_id</th>\n",
       "      <th>num_bikes_available</th>\n",
       "      <th>num_bikes_available_types.mechanical</th>\n",
       "      <th>num_bikes_available_types.ebike</th>\n",
       "      <th>num_docks_available</th>\n",
       "      <th>last_reported</th>\n",
       "      <th>is_charging_station</th>\n",
       "      <th>status</th>\n",
       "      <th>is_installed</th>\n",
       "      <th>is_renting</th>\n",
       "      <th>is_returning</th>\n",
       "      <th>ttl</th>\n",
       "      <th>date</th>\n",
       "      <th>hour</th>\n",
       "      <th>weekday</th>\n",
       "      <th>weekday_num</th>\n",
       "      <th>month</th>\n",
       "      <th>month_num</th>\n",
       "      <th>capacity</th>\n",
       "    </tr>\n",
       "  </thead>\n",
       "  <tbody>\n",
       "    <tr>\n",
       "      <th>0</th>\n",
       "      <td>1</td>\n",
       "      <td>43</td>\n",
       "      <td>43</td>\n",
       "      <td>0</td>\n",
       "      <td>3</td>\n",
       "      <td>2020-12-31 22:56:46</td>\n",
       "      <td>True</td>\n",
       "      <td>IN_SERVICE</td>\n",
       "      <td>1</td>\n",
       "      <td>1</td>\n",
       "      <td>1</td>\n",
       "      <td>22</td>\n",
       "      <td>2020-12-31</td>\n",
       "      <td>22</td>\n",
       "      <td>Thursday</td>\n",
       "      <td>4</td>\n",
       "      <td>December</td>\n",
       "      <td>12</td>\n",
       "      <td>46</td>\n",
       "    </tr>\n",
       "  </tbody>\n",
       "</table>\n",
       "</div>"
      ],
      "text/plain": [
       "   station_id  num_bikes_available  num_bikes_available_types.mechanical  \\\n",
       "0           1                   43                                    43   \n",
       "\n",
       "   num_bikes_available_types.ebike  num_docks_available       last_reported  \\\n",
       "0                                0                    3 2020-12-31 22:56:46   \n",
       "\n",
       "   is_charging_station      status  is_installed  is_renting  is_returning  \\\n",
       "0                 True  IN_SERVICE             1           1             1   \n",
       "\n",
       "   ttl        date  hour   weekday  weekday_num     month  month_num  capacity  \n",
       "0   22  2020-12-31    22  Thursday            4  December         12        46  "
      ]
     },
     "metadata": {},
     "output_type": "display_data"
    }
   ],
   "source": [
    "\n",
    "\n",
    "# Define the correct Excel file path\n",
    "excel_path = \"/home/fm/Desktop/Data2023/Informacio_Estacions_Bicing_2025.xlsx\"\n",
    "\n",
    "# Load the Excel file\n",
    "station_info_df = pd.read_excel(excel_path)\n",
    "\n",
    "# Ensure 'station_id' and 'capacity' are integers\n",
    "station_info_df[\"station_id\"] = station_info_df[\"station_id\"].astype(int)\n",
    "station_info_df[\"capacity\"] = station_info_df[\"capacity\"].astype(int)\n",
    "\n",
    "# Check and remove existing 'capacity' columns if they exist to avoid merge conflict\n",
    "cols_to_remove = [col for col in ['capacity', 'capacity_x', 'capacity_y'] if col in final_df_hourly2021.columns]\n",
    "if cols_to_remove:\n",
    "    final_df_hourly2021 = final_df_hourly2021.drop(columns=cols_to_remove)\n",
    "\n",
    "# Merge 'capacity' into the main DataFrame using 'station_id' as the key\n",
    "final_df_hourly2021 = final_df_hourly2021.merge(\n",
    "    station_info_df[[\"station_id\", \"capacity\"]],\n",
    "    on=\"station_id\",\n",
    "    how=\"left\"\n",
    ")\n",
    "\n",
    "# Display a preview after merging\n",
    "\n",
    "\n",
    "# Check if 'capacity' is correctly merged and contains integers\n",
    "print(\"Data types after merging:\\n\", final_df_hourly2021.dtypes)\n",
    "display(final_df_hourly2021.head(1))"
   ]
  },
  {
   "cell_type": "markdown",
   "metadata": {},
   "source": [
    "7. Calculating 'percentage_docks_available'"
   ]
  },
  {
   "cell_type": "markdown",
   "metadata": {},
   "source": [
    "2021"
   ]
  },
  {
   "cell_type": "code",
   "execution_count": 8,
   "metadata": {},
   "outputs": [
    {
     "name": "stdout",
     "output_type": "stream",
     "text": [
      "   station_id  num_bikes_available  capacity  percentage_docks_available\n",
      "0           1                   43        46                    6.521739\n",
      "1           1                   43        46                    6.521739\n",
      "2           1                   41        46                   10.869565\n",
      "3           1                   41        46                   10.869565\n",
      "4           1                   41        46                   10.869565\n"
     ]
    },
    {
     "data": {
      "application/vnd.microsoft.datawrangler.viewer.v0+json": {
       "columns": [
        {
         "name": "index",
         "rawType": "int64",
         "type": "integer"
        },
        {
         "name": "station_id",
         "rawType": "int64",
         "type": "integer"
        },
        {
         "name": "num_bikes_available",
         "rawType": "int64",
         "type": "integer"
        },
        {
         "name": "num_bikes_available_types.mechanical",
         "rawType": "int64",
         "type": "integer"
        },
        {
         "name": "num_bikes_available_types.ebike",
         "rawType": "int64",
         "type": "integer"
        },
        {
         "name": "num_docks_available",
         "rawType": "int64",
         "type": "integer"
        },
        {
         "name": "last_reported",
         "rawType": "datetime64[ns]",
         "type": "datetime"
        },
        {
         "name": "is_charging_station",
         "rawType": "bool",
         "type": "boolean"
        },
        {
         "name": "status",
         "rawType": "object",
         "type": "string"
        },
        {
         "name": "is_installed",
         "rawType": "int64",
         "type": "integer"
        },
        {
         "name": "is_renting",
         "rawType": "int64",
         "type": "integer"
        },
        {
         "name": "is_returning",
         "rawType": "int64",
         "type": "integer"
        },
        {
         "name": "ttl",
         "rawType": "int64",
         "type": "integer"
        },
        {
         "name": "date",
         "rawType": "object",
         "type": "unknown"
        },
        {
         "name": "hour",
         "rawType": "int32",
         "type": "integer"
        },
        {
         "name": "weekday",
         "rawType": "object",
         "type": "string"
        },
        {
         "name": "weekday_num",
         "rawType": "int32",
         "type": "integer"
        },
        {
         "name": "month",
         "rawType": "object",
         "type": "string"
        },
        {
         "name": "month_num",
         "rawType": "int32",
         "type": "integer"
        },
        {
         "name": "capacity",
         "rawType": "int64",
         "type": "integer"
        },
        {
         "name": "percentage_docks_available",
         "rawType": "float64",
         "type": "float"
        }
       ],
       "conversionMethod": "pd.DataFrame",
       "ref": "caf12f15-38e7-4505-bb05-6cb022243376",
       "rows": [
        [
         "0",
         "1",
         "43",
         "43",
         "0",
         "3",
         "2020-12-31 22:56:46",
         "True",
         "IN_SERVICE",
         "1",
         "1",
         "1",
         "22",
         "2020-12-31",
         "22",
         "Thursday",
         "4",
         "December",
         "12",
         "46",
         "6.521739130434778"
        ]
       ],
       "shape": {
        "columns": 20,
        "rows": 1
       }
      },
      "text/html": [
       "<div>\n",
       "<style scoped>\n",
       "    .dataframe tbody tr th:only-of-type {\n",
       "        vertical-align: middle;\n",
       "    }\n",
       "\n",
       "    .dataframe tbody tr th {\n",
       "        vertical-align: top;\n",
       "    }\n",
       "\n",
       "    .dataframe thead th {\n",
       "        text-align: right;\n",
       "    }\n",
       "</style>\n",
       "<table border=\"1\" class=\"dataframe\">\n",
       "  <thead>\n",
       "    <tr style=\"text-align: right;\">\n",
       "      <th></th>\n",
       "      <th>station_id</th>\n",
       "      <th>num_bikes_available</th>\n",
       "      <th>num_bikes_available_types.mechanical</th>\n",
       "      <th>num_bikes_available_types.ebike</th>\n",
       "      <th>num_docks_available</th>\n",
       "      <th>last_reported</th>\n",
       "      <th>is_charging_station</th>\n",
       "      <th>status</th>\n",
       "      <th>is_installed</th>\n",
       "      <th>is_renting</th>\n",
       "      <th>is_returning</th>\n",
       "      <th>ttl</th>\n",
       "      <th>date</th>\n",
       "      <th>hour</th>\n",
       "      <th>weekday</th>\n",
       "      <th>weekday_num</th>\n",
       "      <th>month</th>\n",
       "      <th>month_num</th>\n",
       "      <th>capacity</th>\n",
       "      <th>percentage_docks_available</th>\n",
       "    </tr>\n",
       "  </thead>\n",
       "  <tbody>\n",
       "    <tr>\n",
       "      <th>0</th>\n",
       "      <td>1</td>\n",
       "      <td>43</td>\n",
       "      <td>43</td>\n",
       "      <td>0</td>\n",
       "      <td>3</td>\n",
       "      <td>2020-12-31 22:56:46</td>\n",
       "      <td>True</td>\n",
       "      <td>IN_SERVICE</td>\n",
       "      <td>1</td>\n",
       "      <td>1</td>\n",
       "      <td>1</td>\n",
       "      <td>22</td>\n",
       "      <td>2020-12-31</td>\n",
       "      <td>22</td>\n",
       "      <td>Thursday</td>\n",
       "      <td>4</td>\n",
       "      <td>December</td>\n",
       "      <td>12</td>\n",
       "      <td>46</td>\n",
       "      <td>6.521739</td>\n",
       "    </tr>\n",
       "  </tbody>\n",
       "</table>\n",
       "</div>"
      ],
      "text/plain": [
       "   station_id  num_bikes_available  num_bikes_available_types.mechanical  \\\n",
       "0           1                   43                                    43   \n",
       "\n",
       "   num_bikes_available_types.ebike  num_docks_available       last_reported  \\\n",
       "0                                0                    3 2020-12-31 22:56:46   \n",
       "\n",
       "   is_charging_station      status  is_installed  is_renting  is_returning  \\\n",
       "0                 True  IN_SERVICE             1           1             1   \n",
       "\n",
       "   ttl        date  hour   weekday  weekday_num     month  month_num  \\\n",
       "0   22  2020-12-31    22  Thursday            4  December         12   \n",
       "\n",
       "   capacity  percentage_docks_available  \n",
       "0        46                    6.521739  "
      ]
     },
     "metadata": {},
     "output_type": "display_data"
    }
   ],
   "source": [
    "\n",
    "\n",
    "# Calculate 'percentage_docks_available'\n",
    "final_df_hourly2021[\"percentage_docks_available\"] = (1 - (final_df_hourly2021[\"num_bikes_available\"] / final_df_hourly2021[\"capacity\"])) * 100\n",
    "\n",
    "# Handle potential division by zero cases (if capacity is 0) - Avoid FutureWarning\n",
    "final_df_hourly2021[\"percentage_docks_available\"] = final_df_hourly2021[\"percentage_docks_available\"].fillna(0)\n",
    "\n",
    "# Display a preview\n",
    "print(final_df_hourly2021[[\"station_id\", \"num_bikes_available\", \"capacity\", \"percentage_docks_available\"]].head()) \n",
    "\n",
    "display(final_df_hourly2021.head(1))\n"
   ]
  },
  {
   "cell_type": "markdown",
   "metadata": {},
   "source": [
    "7.1 There are a few stations wchich are missing capacity in Informacio_Estacions_Bicing_2025.xlsx, this I identified and added manually their capacity to Informacio_Estacions_Bicing_2025.xlsx\n",
    "\n"
   ]
  },
  {
   "cell_type": "markdown",
   "metadata": {},
   "source": [
    "2021 check"
   ]
  },
  {
   "cell_type": "code",
   "execution_count": 9,
   "metadata": {},
   "outputs": [
    {
     "name": "stdout",
     "output_type": "stream",
     "text": [
      "Stations with missing capacity:\n",
      "Empty DataFrame\n",
      "Columns: [station_id, num_bikes_available, num_docks_available, capacity]\n",
      "Index: []\n",
      "Number of unique stations with NaN in capacity: 0\n",
      "Number of unique stations with NaN in capacity: 0\n",
      "\n",
      "Stations with NaN capacity summary:\n",
      "Empty DataFrame\n",
      "Columns: [station_id, num_rows, max_total_available]\n",
      "Index: []\n"
     ]
    }
   ],
   "source": [
    "\n",
    "\n",
    "# Identify stations with missing capacity\n",
    "missing_capacity_stations = final_df_hourly2021[final_df_hourly2021[\"capacity\"].isna()]\n",
    "print(\"Stations with missing capacity:\")\n",
    "print(missing_capacity_stations[[\"station_id\", \"num_bikes_available\", \"num_docks_available\", \"capacity\"]])\n",
    "\n",
    "# Count unique station IDs with NaN in capacity\n",
    "num_stations_with_nan_capacity = final_df_hourly2021.loc[\n",
    "    final_df_hourly2021[\"capacity\"].isna(), \"station_id\"\n",
    "].nunique()\n",
    "\n",
    "print(f\"Number of unique stations with NaN in capacity: {num_stations_with_nan_capacity}\")\n",
    "\n",
    "# Identify stations with NaN in capacity\n",
    "nan_capacity_df = final_df_hourly2021[final_df_hourly2021[\"capacity\"].isna()]\n",
    "\n",
    "# Number of unique stations with NaN capacity\n",
    "num_unique_nan_stations = nan_capacity_df[\"station_id\"].nunique()\n",
    "print(f\"Number of unique stations with NaN in capacity: {num_unique_nan_stations}\\n\")\n",
    "\n",
    "# Group by station_id, count rows, and find the maximum sum per station\n",
    "station_summary = nan_capacity_df.groupby(\"station_id\").agg(\n",
    "    num_rows=(\"station_id\", \"count\"),\n",
    "    max_total_available=(\"num_bikes_available\", lambda x: (x + nan_capacity_df.loc[x.index, \"num_docks_available\"]).max())\n",
    ").reset_index()\n",
    "\n",
    "print(\"Stations with NaN capacity summary:\")\n",
    "print(station_summary)\n"
   ]
  },
  {
   "cell_type": "markdown",
   "metadata": {},
   "source": [
    "8. There are stations where \"percentage_docks_available\" is more then 100% , report it and if more than 100 percent make to be equal to 100 percent"
   ]
  },
  {
   "cell_type": "markdown",
   "metadata": {},
   "source": [
    "2021"
   ]
  },
  {
   "cell_type": "code",
   "execution_count": 10,
   "metadata": {},
   "outputs": [
    {
     "name": "stdout",
     "output_type": "stream",
     "text": [
      "🔴 Stations where percentage_docks_available > 100% BEFORE:\n",
      "[]\n",
      "🔴 Stations where percentage_docks_available > 100% AFTER:\n",
      "[]\n"
     ]
    },
    {
     "data": {
      "application/vnd.microsoft.datawrangler.viewer.v0+json": {
       "columns": [
        {
         "name": "index",
         "rawType": "int64",
         "type": "integer"
        },
        {
         "name": "station_id",
         "rawType": "int64",
         "type": "integer"
        },
        {
         "name": "num_bikes_available",
         "rawType": "int64",
         "type": "integer"
        },
        {
         "name": "num_bikes_available_types.mechanical",
         "rawType": "int64",
         "type": "integer"
        },
        {
         "name": "num_bikes_available_types.ebike",
         "rawType": "int64",
         "type": "integer"
        },
        {
         "name": "num_docks_available",
         "rawType": "int64",
         "type": "integer"
        },
        {
         "name": "last_reported",
         "rawType": "datetime64[ns]",
         "type": "datetime"
        },
        {
         "name": "is_charging_station",
         "rawType": "bool",
         "type": "boolean"
        },
        {
         "name": "status",
         "rawType": "object",
         "type": "string"
        },
        {
         "name": "is_installed",
         "rawType": "int64",
         "type": "integer"
        },
        {
         "name": "is_renting",
         "rawType": "int64",
         "type": "integer"
        },
        {
         "name": "is_returning",
         "rawType": "int64",
         "type": "integer"
        },
        {
         "name": "ttl",
         "rawType": "int64",
         "type": "integer"
        },
        {
         "name": "date",
         "rawType": "object",
         "type": "unknown"
        },
        {
         "name": "hour",
         "rawType": "int32",
         "type": "integer"
        },
        {
         "name": "weekday",
         "rawType": "object",
         "type": "string"
        },
        {
         "name": "weekday_num",
         "rawType": "int32",
         "type": "integer"
        },
        {
         "name": "month",
         "rawType": "object",
         "type": "string"
        },
        {
         "name": "month_num",
         "rawType": "int32",
         "type": "integer"
        },
        {
         "name": "capacity",
         "rawType": "int64",
         "type": "integer"
        },
        {
         "name": "percentage_docks_available",
         "rawType": "float64",
         "type": "float"
        }
       ],
       "conversionMethod": "pd.DataFrame",
       "ref": "35704a55-4fed-4600-a75f-ec92c3014dc8",
       "rows": [
        [
         "0",
         "1",
         "43",
         "43",
         "0",
         "3",
         "2020-12-31 22:56:46",
         "True",
         "IN_SERVICE",
         "1",
         "1",
         "1",
         "22",
         "2020-12-31",
         "22",
         "Thursday",
         "4",
         "December",
         "12",
         "46",
         "6.521739130434778"
        ]
       ],
       "shape": {
        "columns": 20,
        "rows": 1
       }
      },
      "text/html": [
       "<div>\n",
       "<style scoped>\n",
       "    .dataframe tbody tr th:only-of-type {\n",
       "        vertical-align: middle;\n",
       "    }\n",
       "\n",
       "    .dataframe tbody tr th {\n",
       "        vertical-align: top;\n",
       "    }\n",
       "\n",
       "    .dataframe thead th {\n",
       "        text-align: right;\n",
       "    }\n",
       "</style>\n",
       "<table border=\"1\" class=\"dataframe\">\n",
       "  <thead>\n",
       "    <tr style=\"text-align: right;\">\n",
       "      <th></th>\n",
       "      <th>station_id</th>\n",
       "      <th>num_bikes_available</th>\n",
       "      <th>num_bikes_available_types.mechanical</th>\n",
       "      <th>num_bikes_available_types.ebike</th>\n",
       "      <th>num_docks_available</th>\n",
       "      <th>last_reported</th>\n",
       "      <th>is_charging_station</th>\n",
       "      <th>status</th>\n",
       "      <th>is_installed</th>\n",
       "      <th>is_renting</th>\n",
       "      <th>is_returning</th>\n",
       "      <th>ttl</th>\n",
       "      <th>date</th>\n",
       "      <th>hour</th>\n",
       "      <th>weekday</th>\n",
       "      <th>weekday_num</th>\n",
       "      <th>month</th>\n",
       "      <th>month_num</th>\n",
       "      <th>capacity</th>\n",
       "      <th>percentage_docks_available</th>\n",
       "    </tr>\n",
       "  </thead>\n",
       "  <tbody>\n",
       "    <tr>\n",
       "      <th>0</th>\n",
       "      <td>1</td>\n",
       "      <td>43</td>\n",
       "      <td>43</td>\n",
       "      <td>0</td>\n",
       "      <td>3</td>\n",
       "      <td>2020-12-31 22:56:46</td>\n",
       "      <td>True</td>\n",
       "      <td>IN_SERVICE</td>\n",
       "      <td>1</td>\n",
       "      <td>1</td>\n",
       "      <td>1</td>\n",
       "      <td>22</td>\n",
       "      <td>2020-12-31</td>\n",
       "      <td>22</td>\n",
       "      <td>Thursday</td>\n",
       "      <td>4</td>\n",
       "      <td>December</td>\n",
       "      <td>12</td>\n",
       "      <td>46</td>\n",
       "      <td>6.521739</td>\n",
       "    </tr>\n",
       "  </tbody>\n",
       "</table>\n",
       "</div>"
      ],
      "text/plain": [
       "   station_id  num_bikes_available  num_bikes_available_types.mechanical  \\\n",
       "0           1                   43                                    43   \n",
       "\n",
       "   num_bikes_available_types.ebike  num_docks_available       last_reported  \\\n",
       "0                                0                    3 2020-12-31 22:56:46   \n",
       "\n",
       "   is_charging_station      status  is_installed  is_renting  is_returning  \\\n",
       "0                 True  IN_SERVICE             1           1             1   \n",
       "\n",
       "   ttl        date  hour   weekday  weekday_num     month  month_num  \\\n",
       "0   22  2020-12-31    22  Thursday            4  December         12   \n",
       "\n",
       "   capacity  percentage_docks_available  \n",
       "0        46                    6.521739  "
      ]
     },
     "metadata": {},
     "output_type": "display_data"
    }
   ],
   "source": [
    "\n",
    "\n",
    "# Filter rows where 'percentage_docks_available' is greater than 100%\n",
    "over_100_stations = final_df_hourly2021[final_df_hourly2021[\"percentage_docks_available\"] > 100]\n",
    "\n",
    "# Get the list of affected station IDs\n",
    "over_100_station_ids = over_100_stations[\"station_id\"].unique()\n",
    "\n",
    "# Display the station IDs\n",
    "print(\"🔴 Stations where percentage_docks_available > 100% BEFORE:\")\n",
    "print(over_100_station_ids)\n",
    "\n",
    "# Replace values greater than 100% with 100%\n",
    "final_df_hourly2021[\"percentage_docks_available\"] = final_df_hourly2021[\"percentage_docks_available\"].clip(upper=100)\n",
    "\n",
    "# Filter rows where 'percentage_docks_available' is greater than 100%\n",
    "over_100_stations = final_df_hourly2021[final_df_hourly2021[\"percentage_docks_available\"] > 100]\n",
    "\n",
    "# Get the list of affected station IDs\n",
    "over_100_station_ids = over_100_stations[\"station_id\"].unique()\n",
    "\n",
    "# Display the station IDs\n",
    "print(\"🔴 Stations where percentage_docks_available > 100% AFTER:\")\n",
    "print(over_100_station_ids)\n",
    "\n",
    "# Display the DataFrame in Jupyter Notebook\n",
    "display(final_df_hourly2021.head(1))\n",
    "\n",
    "\n"
   ]
  },
  {
   "cell_type": "markdown",
   "metadata": {},
   "source": [
    "9. Open Meteo API and Python Code - Extraction"
   ]
  },
  {
   "cell_type": "code",
   "execution_count": 11,
   "metadata": {},
   "outputs": [
    {
     "name": "stdout",
     "output_type": "stream",
     "text": [
      "Coordinates 41.37082290649414°N 2.068965435028076°E\n",
      "Elevation 44.0 m asl\n",
      "Timezone b'Europe/Berlin'b'GMT+1'\n",
      "Timezone difference to GMT+0 3600 s\n",
      "                           date  temperature_2m  rain  apparent_temperature  \\\n",
      "0     2019-12-31 23:00:00+00:00            4.64   0.0              1.536496   \n",
      "1     2020-01-01 00:00:00+00:00            4.24   0.0              0.874873   \n",
      "2     2020-01-01 01:00:00+00:00            3.69   0.0              0.518975   \n",
      "3     2020-01-01 02:00:00+00:00            3.29   0.0              0.066232   \n",
      "4     2020-01-01 03:00:00+00:00            2.79   0.0             -0.455314   \n",
      "...                         ...             ...   ...                   ...   \n",
      "43843 2024-12-31 18:00:00+00:00            8.89   0.0              8.038103   \n",
      "43844 2024-12-31 19:00:00+00:00            8.24   0.0              6.649469   \n",
      "43845 2024-12-31 20:00:00+00:00            7.64   0.0              5.839178   \n",
      "43846 2024-12-31 21:00:00+00:00            7.54   0.0              5.672849   \n",
      "43847 2024-12-31 22:00:00+00:00            7.49   0.0              5.683870   \n",
      "\n",
      "       relative_humidity_2m  wind_speed_10m  sunshine_duration  \n",
      "0                 85.641792        9.504273                0.0  \n",
      "1                 87.136894       11.113451                0.0  \n",
      "2                 89.924957        9.659814                0.0  \n",
      "3                 90.538269        9.659814                0.0  \n",
      "4                 92.136627        9.511088                0.0  \n",
      "...                     ...             ...                ...  \n",
      "43843             98.325226        3.396233                0.0  \n",
      "43844             95.675209        6.623413                0.0  \n",
      "43845            100.000000        8.149847                0.0  \n",
      "43846             99.999992        8.435069                0.0  \n",
      "43847             99.659279        7.848083                0.0  \n",
      "\n",
      "[43848 rows x 7 columns]\n"
     ]
    }
   ],
   "source": [
    "# INSTALL THE PIPS IF YOU DO NOT HAVE THEM (I installed them in my virtual environment in Linux and do not need them in my code)\n",
    "# pip install openmeteo-requests\n",
    "# pip install requests-cache retry-requests numpy pandas\n",
    "\n",
    "\n",
    "import openmeteo_requests\n",
    "\n",
    "import requests_cache\n",
    "import pandas as pd\n",
    "from retry_requests import retry\n",
    "\n",
    "# Setup the Open-Meteo API client with cache and retry on error\n",
    "cache_session = requests_cache.CachedSession('.cache', expire_after = -1)\n",
    "retry_session = retry(cache_session, retries = 5, backoff_factor = 0.2)\n",
    "openmeteo = openmeteo_requests.Client(session = retry_session)\n",
    "\n",
    "# Make sure all required weather variables are listed here\n",
    "# The order of variables in hourly or daily is important to assign them correctly below\n",
    "url = \"https://archive-api.open-meteo.com/v1/archive\"\n",
    "params = {\n",
    "\t\"latitude\": 41.3888,\n",
    "\t\"longitude\": 2.159,\n",
    "\t\"start_date\": \"2020-01-01\",\n",
    "\t\"end_date\": \"2024-12-31\",\n",
    "\t\"hourly\": [\"temperature_2m\", \"rain\", \"apparent_temperature\", \"relative_humidity_2m\", \"wind_speed_10m\", \"is_day\", \"sunshine_duration\"],\n",
    "\t\"timezone\": \"Europe/Berlin\"\n",
    "}\n",
    "responses = openmeteo.weather_api(url, params=params)\n",
    "\n",
    "# Process first location. Add a for-loop for multiple locations or weather models\n",
    "response = responses[0]\n",
    "print(f\"Coordinates {response.Latitude()}°N {response.Longitude()}°E\")\n",
    "print(f\"Elevation {response.Elevation()} m asl\")\n",
    "print(f\"Timezone {response.Timezone()}{response.TimezoneAbbreviation()}\")\n",
    "print(f\"Timezone difference to GMT+0 {response.UtcOffsetSeconds()} s\")\n",
    "\n",
    "\t\t\t\t\t\t\t# Process hourly data. The order of variables needs to be the same as requested.\n",
    "hourly = response.Hourly()\n",
    "hourly_temperature_2m = hourly.Variables(0).ValuesAsNumpy()\n",
    "hourly_rain = hourly.Variables(1).ValuesAsNumpy()\n",
    "hourly_apparent_temperature = hourly.Variables(2).ValuesAsNumpy()\n",
    "hourly_relative_humidity_2m = hourly.Variables(3).ValuesAsNumpy()\n",
    "hourly_wind_speed_10m = hourly.Variables(4).ValuesAsNumpy()\n",
    "hourly_is_day = hourly.Variables(5).ValuesAsNumpy()\n",
    "hourly_sunshine_duration = hourly.Variables(6).ValuesAsNumpy()\n",
    "\n",
    "hourly_data = {\"date\": pd.date_range(\n",
    "\tstart = pd.to_datetime(hourly.Time(), unit = \"s\", utc = True),\n",
    "\tend = pd.to_datetime(hourly.TimeEnd(), unit = \"s\", utc = True),\n",
    "\tfreq = pd.Timedelta(seconds = hourly.Interval()),\n",
    "\tinclusive = \"left\"\n",
    ")}\n",
    "\n",
    "hourly_data[\"temperature_2m\"] = hourly_temperature_2m\n",
    "hourly_data[\"rain\"] = hourly_rain\n",
    "hourly_data[\"apparent_temperature\"] = hourly_apparent_temperature\n",
    "hourly_data[\"relative_humidity_2m\"] = hourly_relative_humidity_2m\n",
    "hourly_data[\"wind_speed_10m\"] = hourly_wind_speed_10m\n",
    "hourly_data[\"sunshine_duration\"] = hourly_sunshine_duration\n",
    "\n",
    "hourly_dataframe = pd.DataFrame(data = hourly_data)\n",
    "print(hourly_dataframe)\n",
    "\n",
    "\n"
   ]
  },
  {
   "cell_type": "markdown",
   "metadata": {},
   "source": [
    "9.1 Checking the data types for the merger with the meteo data (just for 2023 is enough)"
   ]
  },
  {
   "cell_type": "code",
   "execution_count": 13,
   "metadata": {},
   "outputs": [
    {
     "name": "stdout",
     "output_type": "stream",
     "text": [
      "📋 Column Labels and Data Types Report:\n",
      "                            Column Label       Data Type\n",
      "0                             station_id           int64\n",
      "1                    num_bikes_available           int64\n",
      "2   num_bikes_available_types.mechanical           int64\n",
      "3        num_bikes_available_types.ebike           int64\n",
      "4                    num_docks_available           int64\n",
      "5                          last_reported  datetime64[ns]\n",
      "6                    is_charging_station            bool\n",
      "7                                 status          object\n",
      "8                           is_installed           int64\n",
      "9                             is_renting           int64\n",
      "10                          is_returning           int64\n",
      "11                                   ttl           int64\n",
      "12                                  date          object\n",
      "13                                  hour           int32\n",
      "14                               weekday          object\n",
      "15                           weekday_num           int32\n",
      "16                                 month          object\n",
      "17                             month_num           int32\n",
      "18                              capacity           int64\n",
      "19            percentage_docks_available         float64\n"
     ]
    }
   ],
   "source": [
    "import pandas as pd\n",
    "\n",
    "# Generate report of columns and their data types\n",
    "columns_report = final_df_hourly2021.dtypes.reset_index()\n",
    "columns_report.columns = [\"Column Label\", \"Data Type\"]\n",
    "\n",
    "print(\"📋 Column Labels and Data Types Report:\")\n",
    "print(columns_report)\n",
    "\n"
   ]
  },
  {
   "cell_type": "code",
   "execution_count": 14,
   "metadata": {},
   "outputs": [
    {
     "name": "stdout",
     "output_type": "stream",
     "text": [
      "📌 Labels and Data Types in the Weather DataFrame:\n",
      "                  Label            Data Type\n",
      "0                  date  datetime64[ns, UTC]\n",
      "1        temperature_2m              float32\n",
      "2                  rain              float32\n",
      "3  apparent_temperature              float32\n",
      "4  relative_humidity_2m              float32\n",
      "5        wind_speed_10m              float32\n",
      "6     sunshine_duration              float32\n"
     ]
    }
   ],
   "source": [
    "# Generate and display column names and data types\n",
    "print(\"📌 Labels and Data Types in the Weather DataFrame:\")\n",
    "print(hourly_dataframe.dtypes.reset_index().rename(columns={\"index\": \"Label\", 0: \"Data Type\"}))\n"
   ]
  },
  {
   "cell_type": "markdown",
   "metadata": {},
   "source": [
    "9.2. Splitting the date and the hour in the meteo file in order to have the hour seperate for the merge"
   ]
  },
  {
   "cell_type": "code",
   "execution_count": 15,
   "metadata": {},
   "outputs": [
    {
     "name": "stdout",
     "output_type": "stream",
     "text": [
      "✅ Corrected extraction sample:\n",
      "                       date     datenew  hour\n",
      "0 2020-01-01 00:00:00+01:00  2020-01-01     0\n",
      "1 2020-01-01 01:00:00+01:00  2020-01-01     1\n",
      "2 2020-01-01 02:00:00+01:00  2020-01-01     2\n",
      "3 2020-01-01 03:00:00+01:00  2020-01-01     3\n",
      "4 2020-01-01 04:00:00+01:00  2020-01-01     4\n",
      "5 2020-01-01 05:00:00+01:00  2020-01-01     5\n",
      "6 2020-01-01 06:00:00+01:00  2020-01-01     6\n",
      "7 2020-01-01 07:00:00+01:00  2020-01-01     7\n",
      "8 2020-01-01 08:00:00+01:00  2020-01-01     8\n",
      "9 2020-01-01 09:00:00+01:00  2020-01-01     9\n",
      "\n",
      "✅ Unique hours after timezone correction:\n",
      "[np.int32(0), np.int32(1), np.int32(2), np.int32(3), np.int32(4), np.int32(5), np.int32(6), np.int32(7), np.int32(8), np.int32(9), np.int32(10), np.int32(11), np.int32(12), np.int32(13), np.int32(14), np.int32(15), np.int32(16), np.int32(17), np.int32(18), np.int32(19), np.int32(20), np.int32(21), np.int32(22), np.int32(23)]\n"
     ]
    },
    {
     "data": {
      "application/vnd.microsoft.datawrangler.viewer.v0+json": {
       "columns": [
        {
         "name": "index",
         "rawType": "int64",
         "type": "integer"
        },
        {
         "name": "date",
         "rawType": "datetime64[ns, Europe/Berlin]",
         "type": "unknown"
        },
        {
         "name": "temperature_2m",
         "rawType": "float32",
         "type": "float"
        },
        {
         "name": "rain",
         "rawType": "float32",
         "type": "float"
        },
        {
         "name": "apparent_temperature",
         "rawType": "float32",
         "type": "float"
        },
        {
         "name": "relative_humidity_2m",
         "rawType": "float32",
         "type": "float"
        },
        {
         "name": "wind_speed_10m",
         "rawType": "float32",
         "type": "float"
        },
        {
         "name": "sunshine_duration",
         "rawType": "float32",
         "type": "float"
        },
        {
         "name": "datenew",
         "rawType": "object",
         "type": "string"
        },
        {
         "name": "hour",
         "rawType": "int32",
         "type": "integer"
        }
       ],
       "conversionMethod": "pd.DataFrame",
       "ref": "17fea6f1-2eac-4de6-be96-e936f668f694",
       "rows": [
        [
         "0",
         "2020-01-01 00:00:00+01:00",
         "4.64",
         "0.0",
         "1.5364962",
         "85.64179",
         "9.504273",
         "0.0",
         "2020-01-01",
         "0"
        ]
       ],
       "shape": {
        "columns": 9,
        "rows": 1
       }
      },
      "text/html": [
       "<div>\n",
       "<style scoped>\n",
       "    .dataframe tbody tr th:only-of-type {\n",
       "        vertical-align: middle;\n",
       "    }\n",
       "\n",
       "    .dataframe tbody tr th {\n",
       "        vertical-align: top;\n",
       "    }\n",
       "\n",
       "    .dataframe thead th {\n",
       "        text-align: right;\n",
       "    }\n",
       "</style>\n",
       "<table border=\"1\" class=\"dataframe\">\n",
       "  <thead>\n",
       "    <tr style=\"text-align: right;\">\n",
       "      <th></th>\n",
       "      <th>date</th>\n",
       "      <th>temperature_2m</th>\n",
       "      <th>rain</th>\n",
       "      <th>apparent_temperature</th>\n",
       "      <th>relative_humidity_2m</th>\n",
       "      <th>wind_speed_10m</th>\n",
       "      <th>sunshine_duration</th>\n",
       "      <th>datenew</th>\n",
       "      <th>hour</th>\n",
       "    </tr>\n",
       "  </thead>\n",
       "  <tbody>\n",
       "    <tr>\n",
       "      <th>0</th>\n",
       "      <td>2020-01-01 00:00:00+01:00</td>\n",
       "      <td>4.64</td>\n",
       "      <td>0.0</td>\n",
       "      <td>1.536496</td>\n",
       "      <td>85.641792</td>\n",
       "      <td>9.504273</td>\n",
       "      <td>0.0</td>\n",
       "      <td>2020-01-01</td>\n",
       "      <td>0</td>\n",
       "    </tr>\n",
       "  </tbody>\n",
       "</table>\n",
       "</div>"
      ],
      "text/plain": [
       "                       date  temperature_2m  rain  apparent_temperature  \\\n",
       "0 2020-01-01 00:00:00+01:00            4.64   0.0              1.536496   \n",
       "\n",
       "   relative_humidity_2m  wind_speed_10m  sunshine_duration     datenew  hour  \n",
       "0             85.641792        9.504273                0.0  2020-01-01     0  "
      ]
     },
     "metadata": {},
     "output_type": "display_data"
    }
   ],
   "source": [
    "# Correctly generate the datetime range explicitly from hourly.Time()\n",
    "hourly_dataframe[\"date\"] = pd.date_range(\n",
    "    start=pd.to_datetime(hourly.Time(), unit=\"s\", utc=True),\n",
    "    periods=len(hourly_temperature_2m),\n",
    "    freq=pd.Timedelta(seconds=hourly.Interval())\n",
    ").tz_convert(\"Europe/Berlin\")\n",
    "\n",
    "# Add weather variables to the dataframe\n",
    "hourly_dataframe[\"temperature_2m\"] = hourly_temperature_2m\n",
    "hourly_dataframe[\"rain\"] = hourly_rain\n",
    "hourly_dataframe[\"apparent_temperature\"] = hourly_apparent_temperature\n",
    "hourly_dataframe[\"relative_humidity_2m\"] = hourly_relative_humidity_2m\n",
    "hourly_dataframe[\"wind_speed_10m\"] = hourly_wind_speed_10m\n",
    "hourly_dataframe[\"sunshine_duration\"] = hourly_sunshine_duration\n",
    "\n",
    "# Extract new date and hour columns explicitly\n",
    "hourly_dataframe[\"datenew\"] = hourly_dataframe[\"date\"].dt.strftime('%Y-%m-%d')\n",
    "hourly_dataframe[\"hour\"] = hourly_dataframe[\"date\"].dt.hour.astype('int32')\n",
    "\n",
    "# Verify corrected extraction\n",
    "print(\"✅ Corrected extraction sample:\")\n",
    "print(hourly_dataframe[['date', 'datenew', 'hour']].head(10))\n",
    "\n",
    "# Clearly confirm hours\n",
    "print(\"\\n✅ Unique hours after timezone correction:\")\n",
    "print(sorted(hourly_dataframe['hour'].unique()))\n",
    "\n",
    "\n",
    "display(hourly_dataframe.head(1))\n",
    "\n"
   ]
  },
  {
   "cell_type": "markdown",
   "metadata": {},
   "source": [
    "10. Add the weather information to the dataframes per year"
   ]
  },
  {
   "cell_type": "markdown",
   "metadata": {},
   "source": [
    "READY: 2021 dataframe: final_df_hourly2021"
   ]
  },
  {
   "cell_type": "code",
   "execution_count": 16,
   "metadata": {},
   "outputs": [
    {
     "name": "stdout",
     "output_type": "stream",
     "text": [
      "Overlapping columns before merge: set()\n",
      "\n",
      "✅ Data types after merging:\n",
      "station_id                                       int64\n",
      "num_bikes_available                              int64\n",
      "num_bikes_available_types.mechanical             int64\n",
      "num_bikes_available_types.ebike                  int64\n",
      "num_docks_available                              int64\n",
      "last_reported                           datetime64[ns]\n",
      "is_charging_station                               bool\n",
      "status                                          object\n",
      "is_installed                                     int64\n",
      "is_renting                                       int64\n",
      "is_returning                                     int64\n",
      "ttl                                              int64\n",
      "date                                            object\n",
      "hour                                             int32\n",
      "weekday                                         object\n",
      "weekday_num                                      int32\n",
      "month                                           object\n",
      "month_num                                        int32\n",
      "capacity                                         int64\n",
      "percentage_docks_available                     float64\n",
      "temperature                                    float32\n",
      "raining                                        float32\n",
      "feels_like_weather                             float32\n",
      "humidity                                       float32\n",
      "wind_speed                                     float32\n",
      "sunshine                                       float32\n",
      "dtype: object\n"
     ]
    },
    {
     "data": {
      "application/vnd.microsoft.datawrangler.viewer.v0+json": {
       "columns": [
        {
         "name": "index",
         "rawType": "int64",
         "type": "integer"
        },
        {
         "name": "station_id",
         "rawType": "int64",
         "type": "integer"
        },
        {
         "name": "num_bikes_available",
         "rawType": "int64",
         "type": "integer"
        },
        {
         "name": "num_bikes_available_types.mechanical",
         "rawType": "int64",
         "type": "integer"
        },
        {
         "name": "num_bikes_available_types.ebike",
         "rawType": "int64",
         "type": "integer"
        },
        {
         "name": "num_docks_available",
         "rawType": "int64",
         "type": "integer"
        },
        {
         "name": "last_reported",
         "rawType": "datetime64[ns]",
         "type": "datetime"
        },
        {
         "name": "is_charging_station",
         "rawType": "bool",
         "type": "boolean"
        },
        {
         "name": "status",
         "rawType": "object",
         "type": "string"
        },
        {
         "name": "is_installed",
         "rawType": "int64",
         "type": "integer"
        },
        {
         "name": "is_renting",
         "rawType": "int64",
         "type": "integer"
        },
        {
         "name": "is_returning",
         "rawType": "int64",
         "type": "integer"
        },
        {
         "name": "ttl",
         "rawType": "int64",
         "type": "integer"
        },
        {
         "name": "date",
         "rawType": "object",
         "type": "string"
        },
        {
         "name": "hour",
         "rawType": "int32",
         "type": "integer"
        },
        {
         "name": "weekday",
         "rawType": "object",
         "type": "string"
        },
        {
         "name": "weekday_num",
         "rawType": "int32",
         "type": "integer"
        },
        {
         "name": "month",
         "rawType": "object",
         "type": "string"
        },
        {
         "name": "month_num",
         "rawType": "int32",
         "type": "integer"
        },
        {
         "name": "capacity",
         "rawType": "int64",
         "type": "integer"
        },
        {
         "name": "percentage_docks_available",
         "rawType": "float64",
         "type": "float"
        },
        {
         "name": "temperature",
         "rawType": "float32",
         "type": "float"
        },
        {
         "name": "raining",
         "rawType": "float32",
         "type": "float"
        },
        {
         "name": "feels_like_weather",
         "rawType": "float32",
         "type": "float"
        },
        {
         "name": "humidity",
         "rawType": "float32",
         "type": "float"
        },
        {
         "name": "wind_speed",
         "rawType": "float32",
         "type": "float"
        },
        {
         "name": "sunshine",
         "rawType": "float32",
         "type": "float"
        }
       ],
       "conversionMethod": "pd.DataFrame",
       "ref": "cd9ff612-0785-4f51-b8da-59f87f78330f",
       "rows": [
        [
         "0",
         "1",
         "43",
         "43",
         "0",
         "3",
         "2020-12-31 22:56:46",
         "True",
         "IN_SERVICE",
         "1",
         "1",
         "1",
         "22",
         "2020-12-31",
         "22",
         "Thursday",
         "4",
         "December",
         "12",
         "46",
         "6.521739130434778",
         "7.99",
         "0.0",
         "5.6410694",
         "70.196846",
         "4.896529",
         "0.0"
        ]
       ],
       "shape": {
        "columns": 26,
        "rows": 1
       }
      },
      "text/html": [
       "<div>\n",
       "<style scoped>\n",
       "    .dataframe tbody tr th:only-of-type {\n",
       "        vertical-align: middle;\n",
       "    }\n",
       "\n",
       "    .dataframe tbody tr th {\n",
       "        vertical-align: top;\n",
       "    }\n",
       "\n",
       "    .dataframe thead th {\n",
       "        text-align: right;\n",
       "    }\n",
       "</style>\n",
       "<table border=\"1\" class=\"dataframe\">\n",
       "  <thead>\n",
       "    <tr style=\"text-align: right;\">\n",
       "      <th></th>\n",
       "      <th>station_id</th>\n",
       "      <th>num_bikes_available</th>\n",
       "      <th>num_bikes_available_types.mechanical</th>\n",
       "      <th>num_bikes_available_types.ebike</th>\n",
       "      <th>num_docks_available</th>\n",
       "      <th>last_reported</th>\n",
       "      <th>is_charging_station</th>\n",
       "      <th>status</th>\n",
       "      <th>is_installed</th>\n",
       "      <th>is_renting</th>\n",
       "      <th>...</th>\n",
       "      <th>month</th>\n",
       "      <th>month_num</th>\n",
       "      <th>capacity</th>\n",
       "      <th>percentage_docks_available</th>\n",
       "      <th>temperature</th>\n",
       "      <th>raining</th>\n",
       "      <th>feels_like_weather</th>\n",
       "      <th>humidity</th>\n",
       "      <th>wind_speed</th>\n",
       "      <th>sunshine</th>\n",
       "    </tr>\n",
       "  </thead>\n",
       "  <tbody>\n",
       "    <tr>\n",
       "      <th>0</th>\n",
       "      <td>1</td>\n",
       "      <td>43</td>\n",
       "      <td>43</td>\n",
       "      <td>0</td>\n",
       "      <td>3</td>\n",
       "      <td>2020-12-31 22:56:46</td>\n",
       "      <td>True</td>\n",
       "      <td>IN_SERVICE</td>\n",
       "      <td>1</td>\n",
       "      <td>1</td>\n",
       "      <td>...</td>\n",
       "      <td>December</td>\n",
       "      <td>12</td>\n",
       "      <td>46</td>\n",
       "      <td>6.521739</td>\n",
       "      <td>7.99</td>\n",
       "      <td>0.0</td>\n",
       "      <td>5.641069</td>\n",
       "      <td>70.196846</td>\n",
       "      <td>4.896529</td>\n",
       "      <td>0.0</td>\n",
       "    </tr>\n",
       "  </tbody>\n",
       "</table>\n",
       "<p>1 rows × 26 columns</p>\n",
       "</div>"
      ],
      "text/plain": [
       "   station_id  num_bikes_available  num_bikes_available_types.mechanical  \\\n",
       "0           1                   43                                    43   \n",
       "\n",
       "   num_bikes_available_types.ebike  num_docks_available       last_reported  \\\n",
       "0                                0                    3 2020-12-31 22:56:46   \n",
       "\n",
       "   is_charging_station      status  is_installed  is_renting  ...     month  \\\n",
       "0                 True  IN_SERVICE             1           1  ...  December   \n",
       "\n",
       "   month_num capacity  percentage_docks_available temperature  raining  \\\n",
       "0         12       46                    6.521739        7.99      0.0   \n",
       "\n",
       "  feels_like_weather   humidity  wind_speed  sunshine  \n",
       "0           5.641069  70.196846    4.896529       0.0  \n",
       "\n",
       "[1 rows x 26 columns]"
      ]
     },
     "metadata": {},
     "output_type": "display_data"
    }
   ],
   "source": [
    "\n",
    "\n",
    "# Ensure 'date' and 'hour' columns are correctly formatted for merging\n",
    "final_df_hourly2021['date'] = pd.to_datetime(final_df_hourly2021['date']).dt.strftime('%Y-%m-%d')\n",
    "final_df_hourly2021['hour'] = final_df_hourly2021['hour'].astype('int32')\n",
    "\n",
    "# Ensure 'datenew' in hourly_dataframe is also string and 'hour' is integer\n",
    "hourly_dataframe['datenew'] = hourly_dataframe['datenew'].astype(str)\n",
    "hourly_dataframe['hour'] = hourly_dataframe['hour'].astype('int32')\n",
    "\n",
    "# Identify overlapping columns (excluding merge keys)\n",
    "overlapping_columns = set(final_df_hourly2021.columns) & set(hourly_dataframe.columns) - {'date', 'hour', 'datenew'}\n",
    "print(\"Overlapping columns before merge:\", overlapping_columns)\n",
    "\n",
    "# Drop duplicate columns from final_df_hourly before merging\n",
    "final_df_hourly2021.drop(columns=overlapping_columns, inplace=True, errors='ignore')\n",
    "\n",
    "# Rename columns in hourly_dataframe to avoid conflicts\n",
    "hourly_dataframe = hourly_dataframe.rename(columns={\n",
    "    'temperature_2m': 'temperature',\n",
    "    'rain': 'raining',\n",
    "    'apparent_temperature': 'feels_like_weather',\n",
    "    'relative_humidity_2m': 'humidity',\n",
    "    'wind_speed_10m': 'wind_speed',\n",
    "    'sunshine_duration': 'sunshine'\n",
    "})\n",
    "\n",
    "# Merge the relevant columns from hourly_dataframe\n",
    "final_df_hourly2021 = final_df_hourly2021.merge(\n",
    "    hourly_dataframe[['datenew', 'hour', 'temperature', 'raining', 'feels_like_weather',\n",
    "                      'humidity', 'wind_speed', 'sunshine']],\n",
    "    left_on=['date', 'hour'],\n",
    "    right_on=['datenew', 'hour'],\n",
    "    how='left'\n",
    ")\n",
    "\n",
    "# Drop redundant 'datenew' column after merge\n",
    "final_df_hourly2021.drop(columns=['datenew'], inplace=True)\n",
    "\n",
    "# Verify the merged data\n",
    "#print(\"\\n✅ Data after merging weather information:\")\n",
    "#print(final_df_hourly2023.head(1))\n",
    "\n",
    "# Confirm the successful merge and data types\n",
    "print(\"\\n✅ Data types after merging:\")\n",
    "print(final_df_hourly2021.dtypes)\n",
    "\n",
    "display(final_df_hourly2021.head(1))\n"
   ]
  },
  {
   "cell_type": "markdown",
   "metadata": {},
   "source": [
    "11. Download in CSV"
   ]
  },
  {
   "cell_type": "code",
   "execution_count": 17,
   "metadata": {},
   "outputs": [
    {
     "name": "stderr",
     "output_type": "stream",
     "text": [
      "Saving CSV: 100%|██████████| 4407036/4407036 [00:20<00:00, 213892.47rows/s]"
     ]
    },
    {
     "name": "stdout",
     "output_type": "stream",
     "text": [
      "\n",
      "✅ CSV file saved at: /home/fm/Desktop/final_df_hourly2021.csv\n"
     ]
    },
    {
     "name": "stderr",
     "output_type": "stream",
     "text": [
      "\n"
     ]
    }
   ],
   "source": [
    "import os\n",
    "from tqdm import tqdm\n",
    "\n",
    "# Define the file name and save location\n",
    "output_file = \"final_df_hourly2021.csv\"\n",
    "output_path = os.path.abspath(output_file)  # Get full absolute path\n",
    "\n",
    "# Define chunk size (adjust depending on your system memory)\n",
    "chunk_size = 100_000  \n",
    "\n",
    "# Open file in write mode\n",
    "with open(output_file, \"w\", encoding=\"utf-8\", newline='') as file:\n",
    "    # Write the header only once\n",
    "    final_df_hourly2021.iloc[:0].to_csv(file, index=False)\n",
    "\n",
    "    # Write the CSV in chunks with a progress bar\n",
    "    with tqdm(total=len(final_df_hourly2021), desc=\"Saving CSV\", unit=\"rows\") as pbar:\n",
    "        for i in range(0, len(final_df_hourly2021), chunk_size):\n",
    "            final_df_hourly2021.iloc[i:i+chunk_size].to_csv(file, index=False, header=False, mode='a')\n",
    "            pbar.update(min(chunk_size, len(final_df_hourly2021) - i))  # Avoid over-updating\n",
    "\n",
    "# Print confirmation and file path\n",
    "print(f\"\\n✅ CSV file saved at: {output_path}\")\n"
   ]
  }
 ],
 "metadata": {
  "kernelspec": {
   "display_name": "myenv",
   "language": "python",
   "name": "python3"
  },
  "language_info": {
   "codemirror_mode": {
    "name": "ipython",
    "version": 3
   },
   "file_extension": ".py",
   "mimetype": "text/x-python",
   "name": "python",
   "nbconvert_exporter": "python",
   "pygments_lexer": "ipython3",
   "version": "3.12.3"
  }
 },
 "nbformat": 4,
 "nbformat_minor": 2
}
