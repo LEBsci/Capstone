{
 "cells": [
  {
   "cell_type": "markdown",
   "metadata": {},
   "source": [
    "The project concerns the preparation of an app that forecasts the occupancy of docks of the smou service in the city of Barcelona. The amount of data is huge, meaning a report needs to be done be each file only individually."
   ]
  },
  {
   "cell_type": "code",
   "execution_count": null,
   "metadata": {},
   "outputs": [
    {
     "name": "stdout",
     "output_type": "stream",
     "text": [
      "Requirement already satisfied: pandas in ./capstonevenv/lib/python3.10/site-packages (2.2.3)\n",
      "Requirement already satisfied: matplotlib in ./capstonevenv/lib/python3.10/site-packages (3.10.1)\n",
      "Requirement already satisfied: seaborn in ./capstonevenv/lib/python3.10/site-packages (0.13.2)\n",
      "Requirement already satisfied: numpy in ./capstonevenv/lib/python3.10/site-packages (2.2.3)\n",
      "Collecting tqdm\n",
      "  Downloading tqdm-4.67.1-py3-none-any.whl.metadata (57 kB)\n",
      "Requirement already satisfied: python-dateutil>=2.8.2 in ./capstonevenv/lib/python3.10/site-packages (from pandas) (2.9.0.post0)\n",
      "Requirement already satisfied: pytz>=2020.1 in ./capstonevenv/lib/python3.10/site-packages (from pandas) (2025.1)\n",
      "Requirement already satisfied: tzdata>=2022.7 in ./capstonevenv/lib/python3.10/site-packages (from pandas) (2025.1)\n",
      "Requirement already satisfied: contourpy>=1.0.1 in ./capstonevenv/lib/python3.10/site-packages (from matplotlib) (1.3.1)\n",
      "Requirement already satisfied: cycler>=0.10 in ./capstonevenv/lib/python3.10/site-packages (from matplotlib) (0.12.1)\n",
      "Requirement already satisfied: fonttools>=4.22.0 in ./capstonevenv/lib/python3.10/site-packages (from matplotlib) (4.56.0)\n",
      "Requirement already satisfied: kiwisolver>=1.3.1 in ./capstonevenv/lib/python3.10/site-packages (from matplotlib) (1.4.8)\n",
      "Requirement already satisfied: packaging>=20.0 in ./capstonevenv/lib/python3.10/site-packages (from matplotlib) (24.2)\n",
      "Requirement already satisfied: pillow>=8 in ./capstonevenv/lib/python3.10/site-packages (from matplotlib) (11.1.0)\n",
      "Requirement already satisfied: pyparsing>=2.3.1 in ./capstonevenv/lib/python3.10/site-packages (from matplotlib) (3.2.1)\n",
      "Requirement already satisfied: six>=1.5 in ./capstonevenv/lib/python3.10/site-packages (from python-dateutil>=2.8.2->pandas) (1.17.0)\n",
      "Downloading tqdm-4.67.1-py3-none-any.whl (78 kB)\n",
      "Installing collected packages: tqdm\n",
      "Successfully installed tqdm-4.67.1\n"
     ]
    }
   ],
   "source": [
    "# Install the necessary packages\n",
    "!pip install pandas tqdm"
   ]
  },
  {
   "cell_type": "code",
   "execution_count": 21,
   "metadata": {},
   "outputs": [],
   "source": [
    "'''Import modules for the notebook'''\n",
    "import pandas as pd\n",
    "from tqdm import tqdm"
   ]
  },
  {
   "cell_type": "code",
   "execution_count": 22,
   "metadata": {},
   "outputs": [
    {
     "name": "stderr",
     "output_type": "stream",
     "text": [
      "Processing files: 100%|██████████| 53/53 [06:46<00:00,  7.66s/it]"
     ]
    },
    {
     "name": "stdout",
     "output_type": "stream",
     "text": [
      "Report generation complete.\n"
     ]
    },
    {
     "name": "stderr",
     "output_type": "stream",
     "text": [
      "\n"
     ]
    }
   ],
   "source": [
    "# Make a list of all the files in the data directory\n",
    "file_list = !ls data\n",
    "\n",
    "# Create a report containing the information of every dataframe\n",
    "with open('report.txt', 'w') as report_file:\n",
    "    for file in tqdm(file_list, desc=\"Processing files\"):\n",
    "        # Import the file\n",
    "        data = pd.read_csv(f'data/{file}', low_memory=False)\n",
    "        # Keep the name of the file in a variable\n",
    "        file_name = file[:-4]\n",
    "        # Write the information to a single text file\n",
    "        report_file.write(f'File name: {file_name}\\n')\n",
    "        report_file.write(f'The shape of the dataframe is:\\n {data.shape}\\n')\n",
    "        report_file.write(f'The columns of the dataframe are:\\n {data.columns}\\n')\n",
    "        report_file.write(f'The data types of the dataframe are:\\n {data.dtypes}\\n')\n",
    "        report_file.write(f'The number of NaN values in the dataframe is:\\n {data.isna().sum()}\\n')\n",
    "        report_file.write(f'The number of duplicate rows in the dataframe is:\\n {data.duplicated().sum()}\\n')\n",
    "        report_file.write('\\n---------------------------------------------------------------\\n')\n",
    "\n",
    "print(\"Report generation complete.\")\n"
   ]
  },
  {
   "cell_type": "markdown",
   "metadata": {},
   "source": [
    "The last cell generated a report of a few of the basic data cleaning typical procedures. By consulting the news and information from the government we find the following information:\n",
    "\n",
    "*The COVID-19 restrictions in Barcelona were lifted in several phases. Most capacity restrictions and limits to curb the spread of COVID-19 in Catalonia were lifted on October 15, 2021. This allowed nightlife venues, music bars, and discos to reopen starting from October 8, 2021, although full vaccination or a negative COVID-19 test was required to access these places 1.*\n",
    "\n",
    "*Furthermore, on January 28, 2022, almost all remaining restrictions were lifted, including the removal of the COVID passport requirement and limits on social gatherings. This allowed all sectors to operate at 100% capacity without restrictions on opening hours*\n",
    "\n",
    "This means that the data from before February 2022 might be less relevant for our analysis. We will therefore focus on the data from February 2022 onwards.\n",
    "\n",
    "The data from that point only has a small number of either nan values or duplicates, meaning we can eliminate those rows. First, the traffic column is full of NaN values when it appears, so it can be eliminated. \n"
   ]
  }
 ],
 "metadata": {
  "kernelspec": {
   "display_name": "CapstoneVEnv",
   "language": "python",
   "name": "capstonevenv"
  },
  "language_info": {
   "codemirror_mode": {
    "name": "ipython",
    "version": 3
   },
   "file_extension": ".py",
   "mimetype": "text/x-python",
   "name": "python",
   "nbconvert_exporter": "python",
   "pygments_lexer": "ipython3",
   "version": "3.10.12"
  }
 },
 "nbformat": 4,
 "nbformat_minor": 2
}
